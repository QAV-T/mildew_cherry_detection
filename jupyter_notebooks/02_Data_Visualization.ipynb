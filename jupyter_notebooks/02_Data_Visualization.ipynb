{
  "cells": [
    {
      "cell_type": "markdown",
      "metadata": {
        "id": "0aStgWSO0E0E"
      },
      "source": [
        "# **Data Visualization**"
      ]
    },
    {
      "cell_type": "markdown",
      "metadata": {
        "id": "1eLEkw5O0ECa"
      },
      "source": [
        "## Objectives\n",
        "\n",
        "* The client is interested to have a study to visually differentiate a parasitized and uninfected cell.\n",
        "\n",
        "## Inputs\n",
        "\n",
        "- inputs/datasets/cherry-leaves/test\n",
        "- inputs/datasets/cherry-leaves/train\n",
        "- inputs/datasets/cherry-leaves/validation \n",
        "\n",
        "## Outputs\n",
        "\n",
        "- Image shape embeddings pickle file.\n",
        "- Mean and variability of images per label plot.\n",
        "- Plot to distinguish the contrast between parasite-contained and uninfected cell images.\n",
        "- Generate code that answers business requirement 1 and can be used to build an image montage on the Streamlit dashboard.\n",
        "\n",
        "## Additional Comments\n",
        "\n",
        "- The avarage dimension of the raw images is 256px width by 256px height\n",
        "- Looking at the avarage images:\n",
        "   - the healthy leaves appear to have a more uniform green colour than the powdery mildew leaf.\n",
        "   - and the veins appear more visible in the mildew leaf compared to the healthy leaf\n",
        "- From the image montage the mildew leaves have white streaks on them often along the leaf veins.\n",
        "\n"
      ]
    },
    {
      "cell_type": "markdown",
      "metadata": {
        "id": "9uWZXH9LwoQg"
      },
      "source": [
        "---"
      ]
    },
    {
      "cell_type": "markdown",
      "metadata": {},
      "source": [
        "# Import libraries"
      ]
    },
    {
      "cell_type": "code",
      "execution_count": 1,
      "metadata": {},
      "outputs": [],
      "source": [
        "import os\n",
        "import pandas as pd\n",
        "import numpy as np\n",
        "import matplotlib.pyplot as plt\n",
        "import seaborn as sns\n",
        "import joblib\n",
        "# sns.set_style(\"white\")\n",
        "from matplotlib.image import imread"
      ]
    },
    {
      "cell_type": "markdown",
      "metadata": {
        "id": "cqP-UeN-z3i2"
      },
      "source": [
        "# Change working directory"
      ]
    },
    {
      "cell_type": "code",
      "execution_count": 2,
      "metadata": {
        "id": "wZfF_j-Bz3i4",
        "outputId": "66943449-1436-4c3d-85c7-b85f9f78349b"
      },
      "outputs": [
        {
          "name": "stdout",
          "output_type": "stream",
          "text": [
            "Current directory: /workspace/mildew_cherry_detection/jupyter_notebooks\n"
          ]
        }
      ],
      "source": [
        "import os\n",
        "current_dir = os.getcwd()\n",
        "print(\"Current directory:\", current_dir)"
      ]
    },
    {
      "cell_type": "code",
      "execution_count": 3,
      "metadata": {
        "id": "TwHsQRWjz3i9",
        "outputId": "86849db3-cd2f-4cc5-ebb8-2d0caafa1a2c"
      },
      "outputs": [
        {
          "name": "stdout",
          "output_type": "stream",
          "text": [
            "You set a new current directory\n"
          ]
        }
      ],
      "source": [
        "os.chdir(os.path.dirname(current_dir))\n",
        "print(\"You set a new current directory\")"
      ]
    },
    {
      "cell_type": "markdown",
      "metadata": {
        "id": "M_xPk_Ijz3i-"
      },
      "source": [
        "Confirm the new current directory"
      ]
    },
    {
      "cell_type": "code",
      "execution_count": 4,
      "metadata": {
        "id": "vz3S-_kjz3jA",
        "outputId": "00b79ae4-75d0-4a96-d193-ac9ef9847ea2"
      },
      "outputs": [
        {
          "name": "stdout",
          "output_type": "stream",
          "text": [
            "New current directory: /workspace/mildew_cherry_detection\n"
          ]
        }
      ],
      "source": [
        "work_dir = os.getcwd()\n",
        "print(\"New current directory:\", work_dir) "
      ]
    },
    {
      "cell_type": "markdown",
      "metadata": {
        "id": "-mavJ8DibrcQ"
      },
      "source": [
        "## Set input directories"
      ]
    },
    {
      "cell_type": "code",
      "execution_count": 10,
      "metadata": {},
      "outputs": [],
      "source": [
        "# Define paths\n",
        "data_dir = '/inputs/datasets/raw'\n",
        "train_dir = '/inputs/datasets/train'\n",
        "val_dir = '/inputs/datasets/val'\n",
        "test_dir = '/inputs/datasets/test'"
      ]
    },
    {
      "cell_type": "markdown",
      "metadata": {},
      "source": [
        "## Set output directory"
      ]
    },
    {
      "cell_type": "code",
      "execution_count": 8,
      "metadata": {},
      "outputs": [],
      "source": [
        "version = 'v1'\n",
        "file_path = f'outputs/{version}'\n",
        "\n",
        "if 'outputs' in os.listdir(work_dir) and version in os.listdir(work_dir + '/outputs'):\n",
        "    print('Old version is already available create a new version.')\n",
        "    pass\n",
        "else:\n",
        "    os.makedirs(name=file_path)"
      ]
    },
    {
      "cell_type": "markdown",
      "metadata": {},
      "source": [
        "## Set labels"
      ]
    },
    {
      "cell_type": "markdown",
      "metadata": {},
      "source": [
        "Verify if the train directory."
      ]
    },
    {
      "cell_type": "code",
      "execution_count": 12,
      "metadata": {},
      "outputs": [
        {
          "name": "stdout",
          "output_type": "stream",
          "text": [
            "Full path to train directory: /workspace/mildew_cherry_detection/inputs/datasets/train\n"
          ]
        }
      ],
      "source": [
        "# Verify if the train directory exists\n",
        "train_dir = 'inputs/datasets/train'\n",
        "train_dir_full_path = os.path.join(os.getcwd(), train_dir)\n",
        "print(\"Full path to train directory:\", train_dir_full_path)"
      ]
    },
    {
      "cell_type": "code",
      "execution_count": 13,
      "metadata": {},
      "outputs": [
        {
          "name": "stdout",
          "output_type": "stream",
          "text": [
            "Directory exists: /workspace/mildew_cherry_detection/inputs/datasets/train\n"
          ]
        }
      ],
      "source": [
        "# Check if the directory exists\n",
        "if os.path.exists(train_dir_full_path):\n",
        "    print(f\"Directory exists: {train_dir_full_path}\")\n",
        "else:\n",
        "    print(f\"Directory does not exist: {train_dir_full_path}\")"
      ]
    },
    {
      "cell_type": "markdown",
      "metadata": {},
      "source": [
        "Set labels from the train dataset list of directory "
      ]
    },
    {
      "cell_type": "code",
      "execution_count": 15,
      "metadata": {},
      "outputs": [
        {
          "name": "stdout",
          "output_type": "stream",
          "text": [
            "Label for the images are ['healthy', 'mildew']\n"
          ]
        }
      ],
      "source": [
        "# Set the labels\n",
        "labels = os.listdir(train_dir)\n",
        "print('Label for the images are', labels)\n"
      ]
    },
    {
      "cell_type": "markdown",
      "metadata": {
        "id": "ZY3l0-AxO93d"
      },
      "source": [
        "---"
      ]
    },
    {
      "cell_type": "markdown",
      "metadata": {
        "id": "uFQo3ycuO-v6"
      },
      "source": [
        "# Data visualisation of image data"
      ]
    },
    {
      "cell_type": "markdown",
      "metadata": {},
      "source": [
        "## Image Shape \n",
        " Compute average images size on train set."
      ]
    },
    {
      "cell_type": "code",
      "execution_count": 25,
      "metadata": {},
      "outputs": [
        {
          "data": {
            "image/png": "[encoded data removed]",
            "text/plain": [
              "<Figure size 1000x600 with 1 Axes>"
            ]
          },
          "metadata": {},
          "output_type": "display_data"
        },
        {
          "name": "stdout",
          "output_type": "stream",
          "text": [
            "Width average: 256.0 \n",
            "Height average: 256.0\n"
          ]
        }
      ],
      "source": [
        "import os\n",
        "from matplotlib.image import imread\n",
        "import seaborn as sns\n",
        "import matplotlib.pyplot as plt\n",
        "import numpy as np\n",
        "import joblib\n",
        "\n",
        "# Function to calculate image dimensions\n",
        "def calculate_image_dimensions(image_path):\n",
        "    dimensions = [imread(os.path.join(image_path, label, img)).shape for label in os.listdir(image_path) for img in os.listdir(os.path.join(image_path, label))]\n",
        "    return dimensions\n",
        "\n",
        "# Get image dimensions\n",
        "dimensions = calculate_image_dimensions(train_dir)\n",
        "dim1, dim2 = zip(*[(d[0], d[1]) for d in dimensions])\n",
        "\n",
        "# Plot image dimensions\n",
        "sns.set_style(\"whitegrid\")\n",
        "plt.figure(figsize=(10, 6))\n",
        "sns.scatterplot(x=dim2, y=dim1, alpha=0.2)\n",
        "plt.xlabel(\"Width (pixels)\")\n",
        "plt.ylabel(\"Height (pixels)\")\n",
        "dim1_mean, dim2_mean = np.mean(dim1), np.mean(dim2)\n",
        "plt.axvline(x=dim2_mean, color='r', linestyle='--')\n",
        "plt.axhline(y=dim1_mean, color='r', linestyle='--')\n",
        "plt.show()\n",
        "print(f\"Width average: {dim2_mean} \\nHeight average: {dim1_mean}\")\n",
        "\n",
        "\n"
      ]
    },
    {
      "cell_type": "markdown",
      "metadata": {},
      "source": [
        "Set image shape for the model"
      ]
    },
    {
      "cell_type": "code",
      "execution_count": 28,
      "metadata": {},
      "outputs": [
        {
          "data": {
            "text/plain": [
              "['/workspace/mildew_cherry_detection/models/image_shape.pkl']"
            ]
          },
          "execution_count": 28,
          "metadata": {},
          "output_type": "execute_result"
        }
      ],
      "source": [
        "# Define the path to save the model\n",
        "file_path = \"/workspace/mildew_cherry_detection/models\" \n",
        "\n",
        "# Set and save image shape\n",
        "image_shape = (int(dim1_mean), int(dim2_mean), 3)\n",
        "joblib.dump(image_shape, os.path.join(file_path, \"image_shape.pkl\"))"
      ]
    },
    {
      "cell_type": "markdown",
      "metadata": {},
      "source": [
        "set a manual shape for the model"
      ]
    },
    {
      "cell_type": "code",
      "execution_count": 29,
      "metadata": {},
      "outputs": [
        {
          "data": {
            "text/plain": [
              "['/workspace/mildew_cherry_detection/models/image_shape_manual.pkl']"
            ]
          },
          "execution_count": 29,
          "metadata": {},
          "output_type": "execute_result"
        }
      ],
      "source": [
        "manual_shape = (64, 64, 3)\n",
        "joblib.dump(manual_shape, os.path.join(file_path, \"image_shape_manual.pkl\"))"
      ]
    },
    {
      "cell_type": "markdown",
      "metadata": {},
      "source": [
        "---"
      ]
    },
    {
      "cell_type": "markdown",
      "metadata": {},
      "source": [
        "NOTE"
      ]
    },
    {
      "cell_type": "markdown",
      "metadata": {},
      "source": [
        "* You may add as many sections as you want, as long as it supports your project workflow.\n",
        "* All notebook's cells should be run top-down (you can't create a dynamic wherein a given point you need to go back to a previous cell to execute some task, like go back to a previous cell and refresh a variable content)"
      ]
    },
    {
      "cell_type": "markdown",
      "metadata": {},
      "source": [
        "---"
      ]
    },
    {
      "cell_type": "markdown",
      "metadata": {
        "id": "ltNetd085qHf"
      },
      "source": [
        "# Push files to Repo"
      ]
    },
    {
      "cell_type": "markdown",
      "metadata": {},
      "source": [
        "* If you don't need to push files to Repo, you may replace this section with \"Conclusions and Next Steps\" and state your conclusions and next steps."
      ]
    },
    {
      "cell_type": "code",
      "execution_count": null,
      "metadata": {
        "id": "aKlnIozA4eQO",
        "outputId": "fd09bc1f-adb1-4511-f6ce-492a6af570c0"
      },
      "outputs": [],
      "source": [
        "import os\n",
        "try:\n",
        "    # create here your folder\n",
        "    # os.makedirs(name='')\n",
        "except Exception as e:\n",
        "    print(e)\n"
      ]
    }
  ],
  "metadata": {
    "accelerator": "GPU",
    "colab": {
      "name": "Data Practitioner Jupyter Notebook.ipynb",
      "provenance": [],
      "toc_visible": true
    },
    "interpreter": {
      "hash": "8b8334dab9339717f727a1deaf837b322d7a41c20d15cc86be99a8e69ceec8ce"
    },
    "kernelspec": {
      "display_name": "Python 3.8.12 64-bit ('3.8.12': pyenv)",
      "name": "python3"
    },
    "language_info": {
      "codemirror_mode": {
        "name": "ipython",
        "version": 3
      },
      "file_extension": ".py",
      "mimetype": "text/x-python",
      "name": "python",
      "nbconvert_exporter": "python",
      "pygments_lexer": "ipython3",
      "version": "3.8.18"
    },
    "orig_nbformat": 2
  },
  "nbformat": 4,
  "nbformat_minor": 2
}
